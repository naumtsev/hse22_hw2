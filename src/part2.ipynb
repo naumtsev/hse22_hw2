{
  "nbformat": 4,
  "nbformat_minor": 0,
  "metadata": {
    "colab": {
      "provenance": [],
      "collapsed_sections": []
    },
    "kernelspec": {
      "name": "python3",
      "display_name": "Python 3"
    },
    "language_info": {
      "name": "python"
    }
  },
  "cells": [
    {
      "cell_type": "markdown",
      "source": [
        "# Скачиваем данные и устанавливаем программы"
      ],
      "metadata": {
        "id": "WJ71oQTxShEj"
      }
    },
    {
      "cell_type": "code",
      "source": [
        "!wget https://raw.githubusercontent.com/naumtsev/hse22_hw2/main/data/gms2.lst"
      ],
      "metadata": {
        "id": "fWSU9pxNTOSR",
        "colab": {
          "base_uri": "https://localhost:8080/"
        },
        "outputId": "dd47aaba-5e03-4f73-f31a-da6a1390ab15"
      },
      "execution_count": null,
      "outputs": [
        {
          "output_type": "stream",
          "name": "stdout",
          "text": [
            "--2022-10-20 21:53:46--  https://raw.githubusercontent.com/naumtsev/hse22_hw2/main/data/gms2.lst\n",
            "Resolving raw.githubusercontent.com (raw.githubusercontent.com)... 185.199.108.133, 185.199.109.133, 185.199.110.133, ...\n",
            "Connecting to raw.githubusercontent.com (raw.githubusercontent.com)|185.199.108.133|:443... connected.\n",
            "HTTP request sent, awaiting response... 200 OK\n",
            "Length: 221137 (216K) [text/plain]\n",
            "Saving to: ‘gms2.lst’\n",
            "\n",
            "\rgms2.lst              0%[                    ]       0  --.-KB/s               \rgms2.lst            100%[===================>] 215.95K  --.-KB/s    in 0.009s  \n",
            "\n",
            "2022-10-20 21:53:46 (23.2 MB/s) - ‘gms2.lst’ saved [221137/221137]\n",
            "\n"
          ]
        }
      ]
    },
    {
      "cell_type": "code",
      "source": [
        "!wget https://raw.githubusercontent.com/naumtsev/hse22_hw1/main/data/out_scaffold.fa"
      ],
      "metadata": {
        "id": "yWoD0myNTVi8",
        "colab": {
          "base_uri": "https://localhost:8080/"
        },
        "outputId": "8183f646-56d9-4bb0-c8b0-805c02be8575"
      },
      "execution_count": null,
      "outputs": [
        {
          "output_type": "stream",
          "name": "stdout",
          "text": [
            "--2022-10-20 21:59:25--  https://raw.githubusercontent.com/naumtsev/hse22_hw1/main/data/out_scaffold.fa\n",
            "Resolving raw.githubusercontent.com (raw.githubusercontent.com)... 185.199.108.133, 185.199.109.133, 185.199.110.133, ...\n",
            "Connecting to raw.githubusercontent.com (raw.githubusercontent.com)|185.199.108.133|:443... connected.\n",
            "HTTP request sent, awaiting response... 200 OK\n",
            "Length: 3922968 (3.7M) [text/plain]\n",
            "Saving to: ‘out_scaffold.fa’\n",
            "\n",
            "out_scaffold.fa     100%[===================>]   3.74M  --.-KB/s    in 0.03s   \n",
            "\n",
            "2022-10-20 21:59:25 (143 MB/s) - ‘out_scaffold.fa’ saved [3922968/3922968]\n",
            "\n"
          ]
        }
      ]
    },
    {
      "cell_type": "code",
      "source": [
        "!wget https://raw.githubusercontent.com/naumtsev/hse22_hw2/main/data/proteins.fasta"
      ],
      "metadata": {
        "id": "FkuulZekTbh9",
        "colab": {
          "base_uri": "https://localhost:8080/"
        },
        "outputId": "1ef6ed0b-7171-4476-98d5-1ddcc4eaa439"
      },
      "execution_count": null,
      "outputs": [
        {
          "output_type": "stream",
          "name": "stdout",
          "text": [
            "--2022-10-20 21:53:47--  https://raw.githubusercontent.com/naumtsev/hse22_hw2/main/data/proteins.fasta\n",
            "Resolving raw.githubusercontent.com (raw.githubusercontent.com)... 185.199.108.133, 185.199.109.133, 185.199.110.133, ...\n",
            "Connecting to raw.githubusercontent.com (raw.githubusercontent.com)|185.199.108.133|:443... connected.\n",
            "HTTP request sent, awaiting response... 200 OK\n",
            "Length: 1418232 (1.4M) [text/plain]\n",
            "Saving to: ‘proteins.fasta’\n",
            "\n",
            "proteins.fasta      100%[===================>]   1.35M  --.-KB/s    in 0.02s   \n",
            "\n",
            "2022-10-20 21:53:47 (65.7 MB/s) - ‘proteins.fasta’ saved [1418232/1418232]\n",
            "\n"
          ]
        }
      ]
    },
    {
      "cell_type": "code",
      "source": [
        "!wget https://raw.githubusercontent.com/naumtsev/hse22_hw2/main/data/scaffolds.hits_from_MIL_1.txt"
      ],
      "metadata": {
        "id": "wljcApdJTjGr",
        "colab": {
          "base_uri": "https://localhost:8080/"
        },
        "outputId": "ff2af634-82ee-45a1-b690-2422383d2af6"
      },
      "execution_count": null,
      "outputs": [
        {
          "output_type": "stream",
          "name": "stdout",
          "text": [
            "--2022-10-20 21:53:47--  https://raw.githubusercontent.com/naumtsev/hse22_hw2/main/data/scaffolds.hits_from_MIL_1.txt\n",
            "Resolving raw.githubusercontent.com (raw.githubusercontent.com)... 185.199.108.133, 185.199.109.133, 185.199.110.133, ...\n",
            "Connecting to raw.githubusercontent.com (raw.githubusercontent.com)|185.199.108.133|:443... connected.\n",
            "HTTP request sent, awaiting response... 200 OK\n",
            "Length: 835322 (816K) [text/plain]\n",
            "Saving to: ‘scaffolds.hits_from_MIL_1.txt’\n",
            "\n",
            "scaffolds.hits_from 100%[===================>] 815.74K  --.-KB/s    in 0.02s   \n",
            "\n",
            "2022-10-20 21:53:47 (45.2 MB/s) - ‘scaffolds.hits_from_MIL_1.txt’ saved [835322/835322]\n",
            "\n"
          ]
        }
      ]
    },
    {
      "cell_type": "code",
      "source": [
        "!wget https://raw.githubusercontent.com/naumtsev/hse22_hw2/main/data/scaffolds.hits_from_SwissProt.txt"
      ],
      "metadata": {
        "id": "7ZGyVtAfTopz",
        "colab": {
          "base_uri": "https://localhost:8080/"
        },
        "outputId": "8285a849-a889-490c-aeb5-c4dca025446c"
      },
      "execution_count": null,
      "outputs": [
        {
          "output_type": "stream",
          "name": "stdout",
          "text": [
            "--2022-10-20 21:53:48--  https://raw.githubusercontent.com/naumtsev/hse22_hw2/main/data/scaffolds.hits_from_SwissProt.txt\n",
            "Resolving raw.githubusercontent.com (raw.githubusercontent.com)... 185.199.108.133, 185.199.109.133, 185.199.110.133, ...\n",
            "Connecting to raw.githubusercontent.com (raw.githubusercontent.com)|185.199.108.133|:443... connected.\n",
            "HTTP request sent, awaiting response... 200 OK\n",
            "Length: 66893 (65K) [text/plain]\n",
            "Saving to: ‘scaffolds.hits_from_SwissProt.txt’\n",
            "\n",
            "scaffolds.hits_from 100%[===================>]  65.33K  --.-KB/s    in 0.004s  \n",
            "\n",
            "2022-10-20 21:53:48 (17.8 MB/s) - ‘scaffolds.hits_from_SwissProt.txt’ saved [66893/66893]\n",
            "\n"
          ]
        }
      ]
    },
    {
      "cell_type": "markdown",
      "metadata": {
        "id": "EkEflOHmCHHW"
      },
      "source": [
        "## Скачиваем геном близкородственной бактерии T.oleivorans"
      ]
    },
    {
      "cell_type": "markdown",
      "metadata": {
        "id": "noBYTW1bRH9O"
      },
      "source": [
        "Геном, последовательности генов (нт) и белков (протеом) для бактерии Thalassolituus oleivorans MIL-1\n",
        "https://www.ncbi.nlm.nih.gov/nuccore/HF680312"
      ]
    },
    {
      "cell_type": "code",
      "source": [
        "!sh -c \"$(curl -fsSL ftp://ftp.ncbi.nlm.nih.gov/entrez/entrezdirect/install-edirect.sh)\""
      ],
      "metadata": {
        "id": "bqv3FR5efmk6",
        "colab": {
          "base_uri": "https://localhost:8080/"
        },
        "outputId": "4ea8d239-506d-412b-b88d-ced39eb45787"
      },
      "execution_count": null,
      "outputs": [
        {
          "output_type": "stream",
          "name": "stdout",
          "text": [
            "\n",
            "Entrez Direct has been successfully downloaded and installed.\n",
            "\n",
            "In order to complete the configuration process, please execute the following:\n",
            "\n",
            "  echo \"export PATH=\\${PATH}:/root/edirect\" >> ${HOME}/.bashrc\n",
            "\n",
            "or manually edit the PATH variable assignment in your .bashrc file.\n",
            "\n",
            "Would you like to do that automatically now? [y/N]\n",
            "y\n",
            "OK, done.\n",
            "\n",
            "To activate EDirect for this terminal session, please execute the following:\n",
            "\n",
            "export PATH=${PATH}:${HOME}/edirect\n",
            "\n"
          ]
        }
      ]
    },
    {
      "cell_type": "code",
      "source": [
        "!$HOME/edirect/efetch -db nuccore -id HF680312 -format gb  >  T_oleivorans_MIL_1.gbk"
      ],
      "metadata": {
        "id": "4O3-rUx4fvbw"
      },
      "execution_count": null,
      "outputs": []
    },
    {
      "cell_type": "code",
      "metadata": {
        "id": "j2uga-mieSB6",
        "colab": {
          "base_uri": "https://localhost:8080/"
        },
        "outputId": "d14330b2-f65a-4ebd-ff96-fdbbf81022e0"
      },
      "source": [
        "!pip install biopython"
      ],
      "execution_count": null,
      "outputs": [
        {
          "output_type": "stream",
          "name": "stdout",
          "text": [
            "Looking in indexes: https://pypi.org/simple, https://us-python.pkg.dev/colab-wheels/public/simple/\n",
            "Collecting biopython\n",
            "  Downloading biopython-1.79-cp37-cp37m-manylinux_2_17_x86_64.manylinux2014_x86_64.whl (2.6 MB)\n",
            "\u001b[K     |████████████████████████████████| 2.6 MB 14.2 MB/s \n",
            "\u001b[?25hRequirement already satisfied: numpy in /usr/local/lib/python3.7/dist-packages (from biopython) (1.21.6)\n",
            "Installing collected packages: biopython\n",
            "Successfully installed biopython-1.79\n"
          ]
        }
      ]
    },
    {
      "cell_type": "markdown",
      "source": [
        "## Аннотация генома (пример)"
      ],
      "metadata": {
        "id": "EJIw_JDLUgt5"
      }
    },
    {
      "cell_type": "markdown",
      "source": [
        "Biopython Tutorial: http://biopython.org/DIST/docs/tutorial/Tutorial.html"
      ],
      "metadata": {
        "id": "qhxlclhoYhBh"
      }
    },
    {
      "cell_type": "code",
      "source": [
        "!head -n 20 gms2.lst"
      ],
      "metadata": {
        "id": "G33GF-iGU9Ka",
        "colab": {
          "base_uri": "https://localhost:8080/"
        },
        "outputId": "c82e90a4-5531-4205-c1f3-c269cec89c5a"
      },
      "execution_count": null,
      "outputs": [
        {
          "output_type": "stream",
          "name": "stdout",
          "text": [
            "# GeneMark.hmm-2 LST format\n",
            "# GeneMark.hmm-2 prokaryotic version: 1.25_lic\n",
            "# File with sequence: out_scaffold.fa\n",
            "# File with native parameters: GMS2.mod\n",
            "# Native species name and build: unspecified GeneMarkS-2-1.14_1.25_lic\n",
            "# File with MetaGeneMark parameters: /content/gms2_linux_64/mgm_11.mod\n",
            "# translation table: 11\n",
            "# output date start: Thu Oct 20 21:00:46 2022\n",
            "\n",
            "# sequence-region 1 358896\n",
            "SequenceID: scaffold1_len358896_cov228\n",
            "     1   +    574    1236     663 native ATAGAG 6 1\n",
            "     2   +    1237    1941     705 native TACGAG 9 1\n",
            "     3   -    1957    2919     963 native ATGGAG 11 1\n",
            "     4   -    2916    3764     849 native TTGGTT 3 1\n",
            "     5   +    3891    4238     348 native TAGGTG 4 1\n",
            "     6   +    4231    4641     411 native ATCGAT 4 1\n",
            "     7   +    4641    5546     906 native GAGGCC 8 1\n",
            "     8   +    5664    6854    1191 native AAGGCT 6 1\n",
            "     9   +    6876    7781     906 native AAGGAA 5 1\n"
          ]
        }
      ]
    },
    {
      "cell_type": "markdown",
      "source": [
        "Для примера проаннотируем два коротких скаффолда (scaffold3_cov275 и scaffold9_cov256):\n",
        "\n"
      ],
      "metadata": {
        "id": "OKK4GsdqZPZ6"
      }
    },
    {
      "cell_type": "code",
      "metadata": {
        "id": "1hegJvwMIiPe"
      },
      "source": [
        "from datetime import datetime\n",
        "\n",
        "from Bio import SeqIO\n",
        "\n",
        "scaffolds = dict()\n",
        "\n",
        "for record in SeqIO.parse(\"/content/out_scaffold.fa\", \"fasta\"):\n",
        "    record.annotations['molecule_type'] = 'DNA'\n",
        "    record.annotations['date'] = datetime.now().strftime(\"%d-%b-%Y\").upper()\n",
        "    record.annotations['data_file_division'] = 'BCT'\n",
        "    scaffolds[record.id] = record"
      ],
      "execution_count": null,
      "outputs": []
    },
    {
      "cell_type": "markdown",
      "source": [
        "## Добавляем координаты генов и трансляции генов (аминокислотные посл-ти)"
      ],
      "metadata": {
        "id": "nuikKeO1bL7N"
      }
    },
    {
      "cell_type": "code",
      "metadata": {
        "id": "4cXKMhtmYZ9t"
      },
      "source": [
        "from pprint import pprint\n",
        "from Bio.SeqFeature import SeqFeature, FeatureLocation\n",
        "\n",
        "genes = dict()\n",
        "for gene in SeqIO.parse(\"proteins.fasta\", \"fasta\"):\n",
        "  desc = gene.description.split(' ')\n",
        "  scaffold = desc[1]\n",
        "  start, end = int(desc[2]), int(desc[3])\n",
        "  strand = 1 if desc[4] == '+' else -1\n",
        "  \n",
        "  feat = SeqFeature(FeatureLocation(start, end, strand=strand), type=\"CDS\")\n",
        "  feat.qualifiers['locus_tag'] = [desc[0]]\n",
        "  feat.qualifiers['translation'] = [gene.seq]\n",
        "  scaffolds[scaffold].features.append(feat)\n",
        "  \n",
        "  genes[desc[0]] = feat\n"
      ],
      "execution_count": null,
      "outputs": []
    },
    {
      "cell_type": "markdown",
      "source": [
        "## Добавляем функции белков (из бактерии MIL-1)\n",
        "\n",
        "\n"
      ],
      "metadata": {
        "id": "ed-CWFY3cZK0"
      }
    },
    {
      "cell_type": "code",
      "source": [
        "mil1genes = dict()\n",
        "for feat in SeqIO.read(\"T_oleivorans_MIL_1.gbk\", \"genbank\").features:\n",
        "  if 'protein_id' not in feat.qualifiers:\n",
        "    continue\n",
        "  if 'product' not in feat.qualifiers:\n",
        "    continue\n",
        "  \n",
        "  mil1genes[feat.qualifiers['protein_id'][0]] = feat.qualifiers['product'][0]\n"
      ],
      "metadata": {
        "id": "lmT1wp0Bcnlq"
      },
      "execution_count": null,
      "outputs": []
    },
    {
      "cell_type": "code",
      "source": [
        "names = ['qseqid', 'sseqid', 'pident', 'length', 'mismatch', 'gapopen', 'qstart', 'qend', 'sstart', 'send', 'evalue', 'bitscore']\n",
        "import pandas\n",
        "mil1hits = pandas.read_csv('scaffolds.hits_from_MIL_1.txt', sep='\\t', header=None, names=names)\n",
        "mil1hits\n"
      ],
      "metadata": {
        "id": "O7npTyvav-yI",
        "colab": {
          "base_uri": "https://localhost:8080/",
          "height": 522
        },
        "outputId": "c06a67c4-6a17-4668-a10a-db6ea1459505"
      },
      "execution_count": null,
      "outputs": [
        {
          "output_type": "execute_result",
          "data": {
            "text/plain": [
              "       qseqid                               sseqid   pident  length  mismatch  \\\n",
              "0           1  lcl|HF680312.1_prot_CCU72855.1_2406   99.545     220         1   \n",
              "1           2  lcl|HF680312.1_prot_CCU72856.1_2407  100.000     234         0   \n",
              "2           3  lcl|HF680312.1_prot_CCU72857.1_2408   99.375     320         2   \n",
              "3           4  lcl|HF680312.1_prot_CCU72858.1_2409  100.000     273         0   \n",
              "4           4  lcl|HF680312.1_prot_CCU72327.1_1878   28.322     286       185   \n",
              "...       ...                                  ...      ...     ...       ...   \n",
              "10075    3600             lcl|HF680312.1_prot_1833  100.000      51         0   \n",
              "10076    3600  lcl|HF680312.1_prot_CCU71934.1_1485  100.000      51         0   \n",
              "10077    3600  lcl|HF680312.1_prot_CCU71593.1_1144   98.039      51         1   \n",
              "10078    3600   lcl|HF680312.1_prot_CCU71223.1_774   94.118      51         3   \n",
              "10079    3600  lcl|HF680312.1_prot_CCU71654.1_1205   88.235      51         6   \n",
              "\n",
              "       gapopen  qstart  qend  sstart  send         evalue  bitscore  \n",
              "0            0       1   220       1   220  1.430000e-167     457.0  \n",
              "1            0       1   234       1   234  3.460000e-180     490.0  \n",
              "2            0       1   320       1   320   0.000000e+00     643.0  \n",
              "3            0      10   282       1   273   0.000000e+00     562.0  \n",
              "4            4       1   280       1   272   1.260000e-30     112.0  \n",
              "...        ...     ...   ...     ...   ...            ...       ...  \n",
              "10075        0       1    51      18    68   1.210000e-32     106.0  \n",
              "10076        0       1    51      18    68   1.210000e-31     106.0  \n",
              "10077        0       1    51      18    68   4.880000e-31     105.0  \n",
              "10078        0       1    51      18    68   1.660000e-30     100.0  \n",
              "10079        0       1    51      18    68   2.460000e-28      97.1  \n",
              "\n",
              "[10080 rows x 12 columns]"
            ],
            "text/html": [
              "\n",
              "  <div id=\"df-5cb6cbf3-fc02-4028-a0ac-9d98fa1984d2\">\n",
              "    <div class=\"colab-df-container\">\n",
              "      <div>\n",
              "<style scoped>\n",
              "    .dataframe tbody tr th:only-of-type {\n",
              "        vertical-align: middle;\n",
              "    }\n",
              "\n",
              "    .dataframe tbody tr th {\n",
              "        vertical-align: top;\n",
              "    }\n",
              "\n",
              "    .dataframe thead th {\n",
              "        text-align: right;\n",
              "    }\n",
              "</style>\n",
              "<table border=\"1\" class=\"dataframe\">\n",
              "  <thead>\n",
              "    <tr style=\"text-align: right;\">\n",
              "      <th></th>\n",
              "      <th>qseqid</th>\n",
              "      <th>sseqid</th>\n",
              "      <th>pident</th>\n",
              "      <th>length</th>\n",
              "      <th>mismatch</th>\n",
              "      <th>gapopen</th>\n",
              "      <th>qstart</th>\n",
              "      <th>qend</th>\n",
              "      <th>sstart</th>\n",
              "      <th>send</th>\n",
              "      <th>evalue</th>\n",
              "      <th>bitscore</th>\n",
              "    </tr>\n",
              "  </thead>\n",
              "  <tbody>\n",
              "    <tr>\n",
              "      <th>0</th>\n",
              "      <td>1</td>\n",
              "      <td>lcl|HF680312.1_prot_CCU72855.1_2406</td>\n",
              "      <td>99.545</td>\n",
              "      <td>220</td>\n",
              "      <td>1</td>\n",
              "      <td>0</td>\n",
              "      <td>1</td>\n",
              "      <td>220</td>\n",
              "      <td>1</td>\n",
              "      <td>220</td>\n",
              "      <td>1.430000e-167</td>\n",
              "      <td>457.0</td>\n",
              "    </tr>\n",
              "    <tr>\n",
              "      <th>1</th>\n",
              "      <td>2</td>\n",
              "      <td>lcl|HF680312.1_prot_CCU72856.1_2407</td>\n",
              "      <td>100.000</td>\n",
              "      <td>234</td>\n",
              "      <td>0</td>\n",
              "      <td>0</td>\n",
              "      <td>1</td>\n",
              "      <td>234</td>\n",
              "      <td>1</td>\n",
              "      <td>234</td>\n",
              "      <td>3.460000e-180</td>\n",
              "      <td>490.0</td>\n",
              "    </tr>\n",
              "    <tr>\n",
              "      <th>2</th>\n",
              "      <td>3</td>\n",
              "      <td>lcl|HF680312.1_prot_CCU72857.1_2408</td>\n",
              "      <td>99.375</td>\n",
              "      <td>320</td>\n",
              "      <td>2</td>\n",
              "      <td>0</td>\n",
              "      <td>1</td>\n",
              "      <td>320</td>\n",
              "      <td>1</td>\n",
              "      <td>320</td>\n",
              "      <td>0.000000e+00</td>\n",
              "      <td>643.0</td>\n",
              "    </tr>\n",
              "    <tr>\n",
              "      <th>3</th>\n",
              "      <td>4</td>\n",
              "      <td>lcl|HF680312.1_prot_CCU72858.1_2409</td>\n",
              "      <td>100.000</td>\n",
              "      <td>273</td>\n",
              "      <td>0</td>\n",
              "      <td>0</td>\n",
              "      <td>10</td>\n",
              "      <td>282</td>\n",
              "      <td>1</td>\n",
              "      <td>273</td>\n",
              "      <td>0.000000e+00</td>\n",
              "      <td>562.0</td>\n",
              "    </tr>\n",
              "    <tr>\n",
              "      <th>4</th>\n",
              "      <td>4</td>\n",
              "      <td>lcl|HF680312.1_prot_CCU72327.1_1878</td>\n",
              "      <td>28.322</td>\n",
              "      <td>286</td>\n",
              "      <td>185</td>\n",
              "      <td>4</td>\n",
              "      <td>1</td>\n",
              "      <td>280</td>\n",
              "      <td>1</td>\n",
              "      <td>272</td>\n",
              "      <td>1.260000e-30</td>\n",
              "      <td>112.0</td>\n",
              "    </tr>\n",
              "    <tr>\n",
              "      <th>...</th>\n",
              "      <td>...</td>\n",
              "      <td>...</td>\n",
              "      <td>...</td>\n",
              "      <td>...</td>\n",
              "      <td>...</td>\n",
              "      <td>...</td>\n",
              "      <td>...</td>\n",
              "      <td>...</td>\n",
              "      <td>...</td>\n",
              "      <td>...</td>\n",
              "      <td>...</td>\n",
              "      <td>...</td>\n",
              "    </tr>\n",
              "    <tr>\n",
              "      <th>10075</th>\n",
              "      <td>3600</td>\n",
              "      <td>lcl|HF680312.1_prot_1833</td>\n",
              "      <td>100.000</td>\n",
              "      <td>51</td>\n",
              "      <td>0</td>\n",
              "      <td>0</td>\n",
              "      <td>1</td>\n",
              "      <td>51</td>\n",
              "      <td>18</td>\n",
              "      <td>68</td>\n",
              "      <td>1.210000e-32</td>\n",
              "      <td>106.0</td>\n",
              "    </tr>\n",
              "    <tr>\n",
              "      <th>10076</th>\n",
              "      <td>3600</td>\n",
              "      <td>lcl|HF680312.1_prot_CCU71934.1_1485</td>\n",
              "      <td>100.000</td>\n",
              "      <td>51</td>\n",
              "      <td>0</td>\n",
              "      <td>0</td>\n",
              "      <td>1</td>\n",
              "      <td>51</td>\n",
              "      <td>18</td>\n",
              "      <td>68</td>\n",
              "      <td>1.210000e-31</td>\n",
              "      <td>106.0</td>\n",
              "    </tr>\n",
              "    <tr>\n",
              "      <th>10077</th>\n",
              "      <td>3600</td>\n",
              "      <td>lcl|HF680312.1_prot_CCU71593.1_1144</td>\n",
              "      <td>98.039</td>\n",
              "      <td>51</td>\n",
              "      <td>1</td>\n",
              "      <td>0</td>\n",
              "      <td>1</td>\n",
              "      <td>51</td>\n",
              "      <td>18</td>\n",
              "      <td>68</td>\n",
              "      <td>4.880000e-31</td>\n",
              "      <td>105.0</td>\n",
              "    </tr>\n",
              "    <tr>\n",
              "      <th>10078</th>\n",
              "      <td>3600</td>\n",
              "      <td>lcl|HF680312.1_prot_CCU71223.1_774</td>\n",
              "      <td>94.118</td>\n",
              "      <td>51</td>\n",
              "      <td>3</td>\n",
              "      <td>0</td>\n",
              "      <td>1</td>\n",
              "      <td>51</td>\n",
              "      <td>18</td>\n",
              "      <td>68</td>\n",
              "      <td>1.660000e-30</td>\n",
              "      <td>100.0</td>\n",
              "    </tr>\n",
              "    <tr>\n",
              "      <th>10079</th>\n",
              "      <td>3600</td>\n",
              "      <td>lcl|HF680312.1_prot_CCU71654.1_1205</td>\n",
              "      <td>88.235</td>\n",
              "      <td>51</td>\n",
              "      <td>6</td>\n",
              "      <td>0</td>\n",
              "      <td>1</td>\n",
              "      <td>51</td>\n",
              "      <td>18</td>\n",
              "      <td>68</td>\n",
              "      <td>2.460000e-28</td>\n",
              "      <td>97.1</td>\n",
              "    </tr>\n",
              "  </tbody>\n",
              "</table>\n",
              "<p>10080 rows × 12 columns</p>\n",
              "</div>\n",
              "      <button class=\"colab-df-convert\" onclick=\"convertToInteractive('df-5cb6cbf3-fc02-4028-a0ac-9d98fa1984d2')\"\n",
              "              title=\"Convert this dataframe to an interactive table.\"\n",
              "              style=\"display:none;\">\n",
              "        \n",
              "  <svg xmlns=\"http://www.w3.org/2000/svg\" height=\"24px\"viewBox=\"0 0 24 24\"\n",
              "       width=\"24px\">\n",
              "    <path d=\"M0 0h24v24H0V0z\" fill=\"none\"/>\n",
              "    <path d=\"M18.56 5.44l.94 2.06.94-2.06 2.06-.94-2.06-.94-.94-2.06-.94 2.06-2.06.94zm-11 1L8.5 8.5l.94-2.06 2.06-.94-2.06-.94L8.5 2.5l-.94 2.06-2.06.94zm10 10l.94 2.06.94-2.06 2.06-.94-2.06-.94-.94-2.06-.94 2.06-2.06.94z\"/><path d=\"M17.41 7.96l-1.37-1.37c-.4-.4-.92-.59-1.43-.59-.52 0-1.04.2-1.43.59L10.3 9.45l-7.72 7.72c-.78.78-.78 2.05 0 2.83L4 21.41c.39.39.9.59 1.41.59.51 0 1.02-.2 1.41-.59l7.78-7.78 2.81-2.81c.8-.78.8-2.07 0-2.86zM5.41 20L4 18.59l7.72-7.72 1.47 1.35L5.41 20z\"/>\n",
              "  </svg>\n",
              "      </button>\n",
              "      \n",
              "  <style>\n",
              "    .colab-df-container {\n",
              "      display:flex;\n",
              "      flex-wrap:wrap;\n",
              "      gap: 12px;\n",
              "    }\n",
              "\n",
              "    .colab-df-convert {\n",
              "      background-color: #E8F0FE;\n",
              "      border: none;\n",
              "      border-radius: 50%;\n",
              "      cursor: pointer;\n",
              "      display: none;\n",
              "      fill: #1967D2;\n",
              "      height: 32px;\n",
              "      padding: 0 0 0 0;\n",
              "      width: 32px;\n",
              "    }\n",
              "\n",
              "    .colab-df-convert:hover {\n",
              "      background-color: #E2EBFA;\n",
              "      box-shadow: 0px 1px 2px rgba(60, 64, 67, 0.3), 0px 1px 3px 1px rgba(60, 64, 67, 0.15);\n",
              "      fill: #174EA6;\n",
              "    }\n",
              "\n",
              "    [theme=dark] .colab-df-convert {\n",
              "      background-color: #3B4455;\n",
              "      fill: #D2E3FC;\n",
              "    }\n",
              "\n",
              "    [theme=dark] .colab-df-convert:hover {\n",
              "      background-color: #434B5C;\n",
              "      box-shadow: 0px 1px 3px 1px rgba(0, 0, 0, 0.15);\n",
              "      filter: drop-shadow(0px 1px 2px rgba(0, 0, 0, 0.3));\n",
              "      fill: #FFFFFF;\n",
              "    }\n",
              "  </style>\n",
              "\n",
              "      <script>\n",
              "        const buttonEl =\n",
              "          document.querySelector('#df-5cb6cbf3-fc02-4028-a0ac-9d98fa1984d2 button.colab-df-convert');\n",
              "        buttonEl.style.display =\n",
              "          google.colab.kernel.accessAllowed ? 'block' : 'none';\n",
              "\n",
              "        async function convertToInteractive(key) {\n",
              "          const element = document.querySelector('#df-5cb6cbf3-fc02-4028-a0ac-9d98fa1984d2');\n",
              "          const dataTable =\n",
              "            await google.colab.kernel.invokeFunction('convertToInteractive',\n",
              "                                                     [key], {});\n",
              "          if (!dataTable) return;\n",
              "\n",
              "          const docLinkHtml = 'Like what you see? Visit the ' +\n",
              "            '<a target=\"_blank\" href=https://colab.research.google.com/notebooks/data_table.ipynb>data table notebook</a>'\n",
              "            + ' to learn more about interactive tables.';\n",
              "          element.innerHTML = '';\n",
              "          dataTable['output_type'] = 'display_data';\n",
              "          await google.colab.output.renderOutput(dataTable, element);\n",
              "          const docLink = document.createElement('div');\n",
              "          docLink.innerHTML = docLinkHtml;\n",
              "          element.appendChild(docLink);\n",
              "        }\n",
              "      </script>\n",
              "    </div>\n",
              "  </div>\n",
              "  "
            ]
          },
          "metadata": {},
          "execution_count": 59
        }
      ]
    },
    {
      "cell_type": "code",
      "source": [
        "hits = mil1hits[mil1hits['sseqid'].str.contains(\"CCU\")].sort_values('bitscore', ascending=False).drop_duplicates('qseqid')\n",
        "hits\n"
      ],
      "metadata": {
        "id": "AZfod3Pcv-yP",
        "colab": {
          "base_uri": "https://localhost:8080/",
          "height": 488
        },
        "outputId": "96b4902f-3273-48d6-e97b-e30c111865ca"
      },
      "execution_count": null,
      "outputs": [
        {
          "output_type": "execute_result",
          "data": {
            "text/plain": [
              "      qseqid                               sseqid   pident  length  mismatch  \\\n",
              "8371    3023  lcl|HF680312.1_prot_CCU73896.1_3447   98.979    2253        23   \n",
              "7874    2817   lcl|HF680312.1_prot_CCU70724.1_275   97.870    2113        43   \n",
              "3280    1170  lcl|HF680312.1_prot_CCU71900.1_1451   99.878    1640         2   \n",
              "4868    1809  lcl|HF680312.1_prot_CCU73861.1_3412   99.214    1654        13   \n",
              "7638    2785   lcl|HF680312.1_prot_CCU70690.1_241   99.392    1645        10   \n",
              "...      ...                                  ...      ...     ...       ...   \n",
              "9890    3570   lcl|HF680312.1_prot_CCU70835.1_386   59.259      54        21   \n",
              "4521    1665  lcl|HF680312.1_prot_CCU71629.1_1180   61.224      49         8   \n",
              "3201    1126  lcl|HF680312.1_prot_CCU73367.1_2918   41.096      73        43   \n",
              "9944    3576  lcl|HF680312.1_prot_CCU73193.1_2744   29.592      98        63   \n",
              "482      183  lcl|HF680312.1_prot_CCU73039.1_2590  100.000      28         0   \n",
              "\n",
              "      gapopen  qstart  qend  sstart  send        evalue  bitscore  \n",
              "8371        0       1  2253       1  2253  0.000000e+00    4296.0  \n",
              "7874        1       7  2119       1  2111  0.000000e+00    4158.0  \n",
              "3280        0       1  1640       1  1640  0.000000e+00    3406.0  \n",
              "4868        0       1  1654       1  1654  0.000000e+00    3372.0  \n",
              "7638        0       1  1645       1  1645  0.000000e+00    3338.0  \n",
              "...       ...     ...   ...     ...   ...           ...       ...  \n",
              "9890        1       2    55    2784  2836  1.630000e-12      56.6  \n",
              "4521        1       2    39     139   187  1.280000e-11      54.7  \n",
              "3201        0       5    77       8    80  7.960000e-13      54.7  \n",
              "9944        2      16   112       4    96  1.250000e-11      53.5  \n",
              "482         0       1    28       1    28  5.730000e-12      50.1  \n",
              "\n",
              "[3303 rows x 12 columns]"
            ],
            "text/html": [
              "\n",
              "  <div id=\"df-9ea620b5-83e9-4a48-99df-07dead23d9e6\">\n",
              "    <div class=\"colab-df-container\">\n",
              "      <div>\n",
              "<style scoped>\n",
              "    .dataframe tbody tr th:only-of-type {\n",
              "        vertical-align: middle;\n",
              "    }\n",
              "\n",
              "    .dataframe tbody tr th {\n",
              "        vertical-align: top;\n",
              "    }\n",
              "\n",
              "    .dataframe thead th {\n",
              "        text-align: right;\n",
              "    }\n",
              "</style>\n",
              "<table border=\"1\" class=\"dataframe\">\n",
              "  <thead>\n",
              "    <tr style=\"text-align: right;\">\n",
              "      <th></th>\n",
              "      <th>qseqid</th>\n",
              "      <th>sseqid</th>\n",
              "      <th>pident</th>\n",
              "      <th>length</th>\n",
              "      <th>mismatch</th>\n",
              "      <th>gapopen</th>\n",
              "      <th>qstart</th>\n",
              "      <th>qend</th>\n",
              "      <th>sstart</th>\n",
              "      <th>send</th>\n",
              "      <th>evalue</th>\n",
              "      <th>bitscore</th>\n",
              "    </tr>\n",
              "  </thead>\n",
              "  <tbody>\n",
              "    <tr>\n",
              "      <th>8371</th>\n",
              "      <td>3023</td>\n",
              "      <td>lcl|HF680312.1_prot_CCU73896.1_3447</td>\n",
              "      <td>98.979</td>\n",
              "      <td>2253</td>\n",
              "      <td>23</td>\n",
              "      <td>0</td>\n",
              "      <td>1</td>\n",
              "      <td>2253</td>\n",
              "      <td>1</td>\n",
              "      <td>2253</td>\n",
              "      <td>0.000000e+00</td>\n",
              "      <td>4296.0</td>\n",
              "    </tr>\n",
              "    <tr>\n",
              "      <th>7874</th>\n",
              "      <td>2817</td>\n",
              "      <td>lcl|HF680312.1_prot_CCU70724.1_275</td>\n",
              "      <td>97.870</td>\n",
              "      <td>2113</td>\n",
              "      <td>43</td>\n",
              "      <td>1</td>\n",
              "      <td>7</td>\n",
              "      <td>2119</td>\n",
              "      <td>1</td>\n",
              "      <td>2111</td>\n",
              "      <td>0.000000e+00</td>\n",
              "      <td>4158.0</td>\n",
              "    </tr>\n",
              "    <tr>\n",
              "      <th>3280</th>\n",
              "      <td>1170</td>\n",
              "      <td>lcl|HF680312.1_prot_CCU71900.1_1451</td>\n",
              "      <td>99.878</td>\n",
              "      <td>1640</td>\n",
              "      <td>2</td>\n",
              "      <td>0</td>\n",
              "      <td>1</td>\n",
              "      <td>1640</td>\n",
              "      <td>1</td>\n",
              "      <td>1640</td>\n",
              "      <td>0.000000e+00</td>\n",
              "      <td>3406.0</td>\n",
              "    </tr>\n",
              "    <tr>\n",
              "      <th>4868</th>\n",
              "      <td>1809</td>\n",
              "      <td>lcl|HF680312.1_prot_CCU73861.1_3412</td>\n",
              "      <td>99.214</td>\n",
              "      <td>1654</td>\n",
              "      <td>13</td>\n",
              "      <td>0</td>\n",
              "      <td>1</td>\n",
              "      <td>1654</td>\n",
              "      <td>1</td>\n",
              "      <td>1654</td>\n",
              "      <td>0.000000e+00</td>\n",
              "      <td>3372.0</td>\n",
              "    </tr>\n",
              "    <tr>\n",
              "      <th>7638</th>\n",
              "      <td>2785</td>\n",
              "      <td>lcl|HF680312.1_prot_CCU70690.1_241</td>\n",
              "      <td>99.392</td>\n",
              "      <td>1645</td>\n",
              "      <td>10</td>\n",
              "      <td>0</td>\n",
              "      <td>1</td>\n",
              "      <td>1645</td>\n",
              "      <td>1</td>\n",
              "      <td>1645</td>\n",
              "      <td>0.000000e+00</td>\n",
              "      <td>3338.0</td>\n",
              "    </tr>\n",
              "    <tr>\n",
              "      <th>...</th>\n",
              "      <td>...</td>\n",
              "      <td>...</td>\n",
              "      <td>...</td>\n",
              "      <td>...</td>\n",
              "      <td>...</td>\n",
              "      <td>...</td>\n",
              "      <td>...</td>\n",
              "      <td>...</td>\n",
              "      <td>...</td>\n",
              "      <td>...</td>\n",
              "      <td>...</td>\n",
              "      <td>...</td>\n",
              "    </tr>\n",
              "    <tr>\n",
              "      <th>9890</th>\n",
              "      <td>3570</td>\n",
              "      <td>lcl|HF680312.1_prot_CCU70835.1_386</td>\n",
              "      <td>59.259</td>\n",
              "      <td>54</td>\n",
              "      <td>21</td>\n",
              "      <td>1</td>\n",
              "      <td>2</td>\n",
              "      <td>55</td>\n",
              "      <td>2784</td>\n",
              "      <td>2836</td>\n",
              "      <td>1.630000e-12</td>\n",
              "      <td>56.6</td>\n",
              "    </tr>\n",
              "    <tr>\n",
              "      <th>4521</th>\n",
              "      <td>1665</td>\n",
              "      <td>lcl|HF680312.1_prot_CCU71629.1_1180</td>\n",
              "      <td>61.224</td>\n",
              "      <td>49</td>\n",
              "      <td>8</td>\n",
              "      <td>1</td>\n",
              "      <td>2</td>\n",
              "      <td>39</td>\n",
              "      <td>139</td>\n",
              "      <td>187</td>\n",
              "      <td>1.280000e-11</td>\n",
              "      <td>54.7</td>\n",
              "    </tr>\n",
              "    <tr>\n",
              "      <th>3201</th>\n",
              "      <td>1126</td>\n",
              "      <td>lcl|HF680312.1_prot_CCU73367.1_2918</td>\n",
              "      <td>41.096</td>\n",
              "      <td>73</td>\n",
              "      <td>43</td>\n",
              "      <td>0</td>\n",
              "      <td>5</td>\n",
              "      <td>77</td>\n",
              "      <td>8</td>\n",
              "      <td>80</td>\n",
              "      <td>7.960000e-13</td>\n",
              "      <td>54.7</td>\n",
              "    </tr>\n",
              "    <tr>\n",
              "      <th>9944</th>\n",
              "      <td>3576</td>\n",
              "      <td>lcl|HF680312.1_prot_CCU73193.1_2744</td>\n",
              "      <td>29.592</td>\n",
              "      <td>98</td>\n",
              "      <td>63</td>\n",
              "      <td>2</td>\n",
              "      <td>16</td>\n",
              "      <td>112</td>\n",
              "      <td>4</td>\n",
              "      <td>96</td>\n",
              "      <td>1.250000e-11</td>\n",
              "      <td>53.5</td>\n",
              "    </tr>\n",
              "    <tr>\n",
              "      <th>482</th>\n",
              "      <td>183</td>\n",
              "      <td>lcl|HF680312.1_prot_CCU73039.1_2590</td>\n",
              "      <td>100.000</td>\n",
              "      <td>28</td>\n",
              "      <td>0</td>\n",
              "      <td>0</td>\n",
              "      <td>1</td>\n",
              "      <td>28</td>\n",
              "      <td>1</td>\n",
              "      <td>28</td>\n",
              "      <td>5.730000e-12</td>\n",
              "      <td>50.1</td>\n",
              "    </tr>\n",
              "  </tbody>\n",
              "</table>\n",
              "<p>3303 rows × 12 columns</p>\n",
              "</div>\n",
              "      <button class=\"colab-df-convert\" onclick=\"convertToInteractive('df-9ea620b5-83e9-4a48-99df-07dead23d9e6')\"\n",
              "              title=\"Convert this dataframe to an interactive table.\"\n",
              "              style=\"display:none;\">\n",
              "        \n",
              "  <svg xmlns=\"http://www.w3.org/2000/svg\" height=\"24px\"viewBox=\"0 0 24 24\"\n",
              "       width=\"24px\">\n",
              "    <path d=\"M0 0h24v24H0V0z\" fill=\"none\"/>\n",
              "    <path d=\"M18.56 5.44l.94 2.06.94-2.06 2.06-.94-2.06-.94-.94-2.06-.94 2.06-2.06.94zm-11 1L8.5 8.5l.94-2.06 2.06-.94-2.06-.94L8.5 2.5l-.94 2.06-2.06.94zm10 10l.94 2.06.94-2.06 2.06-.94-2.06-.94-.94-2.06-.94 2.06-2.06.94z\"/><path d=\"M17.41 7.96l-1.37-1.37c-.4-.4-.92-.59-1.43-.59-.52 0-1.04.2-1.43.59L10.3 9.45l-7.72 7.72c-.78.78-.78 2.05 0 2.83L4 21.41c.39.39.9.59 1.41.59.51 0 1.02-.2 1.41-.59l7.78-7.78 2.81-2.81c.8-.78.8-2.07 0-2.86zM5.41 20L4 18.59l7.72-7.72 1.47 1.35L5.41 20z\"/>\n",
              "  </svg>\n",
              "      </button>\n",
              "      \n",
              "  <style>\n",
              "    .colab-df-container {\n",
              "      display:flex;\n",
              "      flex-wrap:wrap;\n",
              "      gap: 12px;\n",
              "    }\n",
              "\n",
              "    .colab-df-convert {\n",
              "      background-color: #E8F0FE;\n",
              "      border: none;\n",
              "      border-radius: 50%;\n",
              "      cursor: pointer;\n",
              "      display: none;\n",
              "      fill: #1967D2;\n",
              "      height: 32px;\n",
              "      padding: 0 0 0 0;\n",
              "      width: 32px;\n",
              "    }\n",
              "\n",
              "    .colab-df-convert:hover {\n",
              "      background-color: #E2EBFA;\n",
              "      box-shadow: 0px 1px 2px rgba(60, 64, 67, 0.3), 0px 1px 3px 1px rgba(60, 64, 67, 0.15);\n",
              "      fill: #174EA6;\n",
              "    }\n",
              "\n",
              "    [theme=dark] .colab-df-convert {\n",
              "      background-color: #3B4455;\n",
              "      fill: #D2E3FC;\n",
              "    }\n",
              "\n",
              "    [theme=dark] .colab-df-convert:hover {\n",
              "      background-color: #434B5C;\n",
              "      box-shadow: 0px 1px 3px 1px rgba(0, 0, 0, 0.15);\n",
              "      filter: drop-shadow(0px 1px 2px rgba(0, 0, 0, 0.3));\n",
              "      fill: #FFFFFF;\n",
              "    }\n",
              "  </style>\n",
              "\n",
              "      <script>\n",
              "        const buttonEl =\n",
              "          document.querySelector('#df-9ea620b5-83e9-4a48-99df-07dead23d9e6 button.colab-df-convert');\n",
              "        buttonEl.style.display =\n",
              "          google.colab.kernel.accessAllowed ? 'block' : 'none';\n",
              "\n",
              "        async function convertToInteractive(key) {\n",
              "          const element = document.querySelector('#df-9ea620b5-83e9-4a48-99df-07dead23d9e6');\n",
              "          const dataTable =\n",
              "            await google.colab.kernel.invokeFunction('convertToInteractive',\n",
              "                                                     [key], {});\n",
              "          if (!dataTable) return;\n",
              "\n",
              "          const docLinkHtml = 'Like what you see? Visit the ' +\n",
              "            '<a target=\"_blank\" href=https://colab.research.google.com/notebooks/data_table.ipynb>data table notebook</a>'\n",
              "            + ' to learn more about interactive tables.';\n",
              "          element.innerHTML = '';\n",
              "          dataTable['output_type'] = 'display_data';\n",
              "          await google.colab.output.renderOutput(dataTable, element);\n",
              "          const docLink = document.createElement('div');\n",
              "          docLink.innerHTML = docLinkHtml;\n",
              "          element.appendChild(docLink);\n",
              "        }\n",
              "      </script>\n",
              "    </div>\n",
              "  </div>\n",
              "  "
            ]
          },
          "metadata": {},
          "execution_count": 60
        }
      ]
    },
    {
      "cell_type": "code",
      "source": [
        "for i, hit in hits.iterrows():\n",
        "  gene = genes[str(hit['qseqid'])]\n",
        "  match = hit['sseqid'].split('_')[2]\n",
        "  gene.qualifiers['product'] = [mil1genes[match]]\n"
      ],
      "metadata": {
        "id": "L8dFyRiakGm2"
      },
      "execution_count": null,
      "outputs": []
    },
    {
      "cell_type": "code",
      "source": [
        "SeqIO.write(scaffolds.values(), \"GENOME.gbk\", \"genbank\")\n"
      ],
      "metadata": {
        "id": "QKxmGI7gkgKz",
        "colab": {
          "base_uri": "https://localhost:8080/"
        },
        "outputId": "d9db8270-d37b-4e52-bf01-466561ef5279"
      },
      "execution_count": null,
      "outputs": [
        {
          "output_type": "stream",
          "name": "stderr",
          "text": [
            "/usr/local/lib/python3.7/dist-packages/Bio/SeqIO/InsdcIO.py:730: BiopythonWarning: Increasing length of locus line to allow long name. This will result in fields that are not in usual positions.\n",
            "  BiopythonWarning,\n"
          ]
        },
        {
          "output_type": "execute_result",
          "data": {
            "text/plain": [
              "130"
            ]
          },
          "metadata": {},
          "execution_count": 62
        }
      ]
    },
    {
      "cell_type": "markdown",
      "source": [
        "## Добавляем функции белков (из БД SwissProt)"
      ],
      "metadata": {
        "id": "Pr5GctSQxlsQ"
      }
    },
    {
      "cell_type": "markdown",
      "source": [
        "Читаем информацию из файла scaffolds.hits_from_SwissProt.txt"
      ],
      "metadata": {
        "id": "xLafv2r8xo6P"
      }
    },
    {
      "cell_type": "code",
      "source": [
        "!head scaffolds.hits_from_SwissProt.txt"
      ],
      "metadata": {
        "id": "_bHOMEqhxvDd",
        "colab": {
          "base_uri": "https://localhost:8080/"
        },
        "outputId": "a8d1aa38-df39-416e-9e64-c33c942a02aa"
      },
      "execution_count": null,
      "outputs": [
        {
          "output_type": "stream",
          "name": "stdout",
          "text": [
            "105\tsp|Q58577|Y1178_METJA\t30.055\t366\t192\t15\t1\t336\t4\t335\t2.97e-28\t115\n",
            "105\tsp|Q81ST7|BSHA_BACAN\t29.097\t299\t168\t10\t63\t335\t77\t357\t2.74e-22\t100\n",
            "105\tsp|P9WMZ3|PIMB_MYCTU\t28.689\t244\t148\t6\t113\t336\t130\t367\t3.03e-21\t97.1\n",
            "105\tsp|P9WMZ2|PIMB_MYCTO\t28.689\t244\t148\t6\t113\t336\t130\t367\t3.03e-21\t97.1\n",
            "105\tsp|O32272|TUAC_BACSU\t25.313\t399\t230\t11\t1\t348\t1\t382\t8.09e-21\t95.9\n",
            "105\tsp|Q59002|Y1607_METJA\t28.523\t298\t181\t10\t67\t340\t84\t373\t1.72e-18\t89.4\n",
            "105\tsp|Q8NTA6|MSHA_CORGL\t30.147\t272\t160\t13\t103\t352\t144\t407\t1.34e-17\t86.7\n",
            "105\tsp|A4QB40|MSHA_CORGB\t30.147\t272\t160\t13\t103\t352\t144\t407\t1.34e-17\t86.7\n",
            "105\tsp|A7TZT2|MFPS_AGRFC\t26.400\t250\t160\t6\t106\t336\t177\t421\t9.87e-17\t84.3\n",
            "105\tsp|Q8FSH1|MSHA_COREF\t29.588\t267\t156\t12\t106\t349\t147\t404\t3.79e-16\t82.4\n"
          ]
        }
      ]
    },
    {
      "cell_type": "markdown",
      "source": [
        "product = 'Similar to SwissProt protein Y1178_METJA (E-value = 2.97e-28)'"
      ],
      "metadata": {
        "id": "UykENPFgyIQu"
      }
    },
    {
      "cell_type": "markdown",
      "source": [
        "Получить функции белков SwissProt из файла: https://ftp.uniprot.org/pub/databases/uniprot/current_release/knowledgebase/complete/uniprot_sprot.dat.gz"
      ],
      "metadata": {
        "id": "HWWUeHCdyAdb"
      }
    },
    {
      "cell_type": "code",
      "source": [
        "!wget https://ftp.uniprot.org/pub/databases/uniprot/current_release/knowledgebase/complete/uniprot_sprot.dat.gz"
      ],
      "metadata": {
        "colab": {
          "base_uri": "https://localhost:8080/"
        },
        "id": "tTRJ0KfnWIdt",
        "outputId": "b287ddf6-9fdd-488a-baf2-a137ec6a3292"
      },
      "execution_count": null,
      "outputs": [
        {
          "output_type": "stream",
          "name": "stdout",
          "text": [
            "--2022-10-20 22:41:22--  https://ftp.uniprot.org/pub/databases/uniprot/current_release/knowledgebase/complete/uniprot_sprot.dat.gz\n",
            "Resolving ftp.uniprot.org (ftp.uniprot.org)... 128.175.240.195\n",
            "Connecting to ftp.uniprot.org (ftp.uniprot.org)|128.175.240.195|:443... connected.\n",
            "HTTP request sent, awaiting response... 200 OK\n",
            "Length: 642093634 (612M) [application/x-gzip]\n",
            "Saving to: ‘uniprot_sprot.dat.gz’\n",
            "\n",
            "uniprot_sprot.dat.g 100%[===================>] 612.35M  13.4MB/s    in 46s     \n",
            "\n",
            "2022-10-20 22:42:09 (13.2 MB/s) - ‘uniprot_sprot.dat.gz’ saved [642093634/642093634]\n",
            "\n"
          ]
        }
      ]
    },
    {
      "cell_type": "code",
      "source": [
        "!gzip -d uniprot_sprot.dat.gz"
      ],
      "metadata": {
        "id": "_7n4ZxdjWPxH"
      },
      "execution_count": null,
      "outputs": []
    },
    {
      "cell_type": "code",
      "source": [
        "!grep '^ID\\|^DE   RecName: Full=' uniprot_sprot.dat > SwissProt_names.txt"
      ],
      "metadata": {
        "id": "r-vwDRi2kRaH"
      },
      "execution_count": null,
      "outputs": []
    },
    {
      "cell_type": "code",
      "source": [
        "previd = None\n",
        "swissgenes = dict()\n",
        "for line in open('SwissProt_names.txt'):\n",
        "  if line.startswith('ID'):\n",
        "    previd = line.split()[1]\n",
        "  if line.startswith('DE'):\n",
        "    swissgenes[previd] = line.split('=')[1][:-2]\n"
      ],
      "metadata": {
        "id": "mHjQLZ_ikV6X"
      },
      "execution_count": null,
      "outputs": []
    },
    {
      "cell_type": "code",
      "source": [
        "swisshits_raw = pandas.read_csv('scaffolds.hits_from_SwissProt.txt', sep='\\t', header=None, names=names)\n",
        "swisshits = swisshits_raw.sort_values('bitscore', ascending=False).drop_duplicates('qseqid')\n",
        "\n",
        "for i, hit in swisshits.iterrows():\n",
        "  gene = genes[str(hit['qseqid'])]\n",
        "  match = hit['sseqid'].split('|')[-1]\n",
        "  gene.qualifiers['product'] = [swissgenes[match]]\n"
      ],
      "metadata": {
        "id": "5EUyqZBgkZ4S"
      },
      "execution_count": null,
      "outputs": []
    },
    {
      "cell_type": "code",
      "source": [
        "SeqIO.write(scaffolds.values(), \"GENOME1.gbk\", \"genbank\")\n"
      ],
      "metadata": {
        "colab": {
          "base_uri": "https://localhost:8080/"
        },
        "id": "-nbARM7PWy3z",
        "outputId": "4f6e3ae1-23b2-43e6-e841-4be5705d9805"
      },
      "execution_count": null,
      "outputs": [
        {
          "output_type": "stream",
          "name": "stderr",
          "text": [
            "/usr/local/lib/python3.7/dist-packages/Bio/SeqIO/InsdcIO.py:730: BiopythonWarning: Increasing length of locus line to allow long name. This will result in fields that are not in usual positions.\n",
            "  BiopythonWarning,\n"
          ]
        },
        {
          "output_type": "execute_result",
          "data": {
            "text/plain": [
              "130"
            ]
          },
          "metadata": {},
          "execution_count": 70
        }
      ]
    },
    {
      "cell_type": "code",
      "source": [],
      "metadata": {
        "id": "yotREDLvkffg"
      },
      "execution_count": null,
      "outputs": []
    }
  ]
}